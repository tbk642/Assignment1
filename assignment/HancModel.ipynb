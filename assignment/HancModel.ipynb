{
 "cells": [
  {
   "cell_type": "code",
   "execution_count": null,
   "metadata": {},
   "outputs": [],
   "source": [
    "%load_ext autoreload\n",
    "%autoreload 2\n",
    "\n",
    "import time\n",
    "import pickle\n",
    "import numpy as np\n",
    "from scipy import optimize\n",
    "\n",
    "import matplotlib.pyplot as plt   \n",
    "colors = plt.rcParams['axes.prop_cycle'].by_key()['color']\n",
    "plt.rcParams.update({\"axes.grid\" : True, \"grid.color\": \"black\", \"grid.alpha\":\"0.25\", \"grid.linestyle\": \"--\"})\n",
    "plt.rcParams.update({'font.size': 14})\n",
    "\n",
    "from HancModel import HANCModelClass"
   ]
  },
  {
   "cell_type": "code",
   "execution_count": null,
   "metadata": {},
   "outputs": [],
   "source": [
    "model = HANCModelClass(name='baseline') # create an instance of the model"
   ]
  },
  {
   "cell_type": "code",
   "execution_count": null,
   "metadata": {},
   "outputs": [],
   "source": [
    "model.info()"
   ]
  },
  {
   "cell_type": "code",
   "execution_count": null,
   "metadata": {},
   "outputs": [],
   "source": [
    "model.info(only_blocks=True)\n",
    "model.draw_DAG(figsize=(10,10))"
   ]
  },
  {
   "cell_type": "code",
   "execution_count": null,
   "metadata": {},
   "outputs": [],
   "source": [
    "par = model.par\n",
    "ss = model.ss\n",
    "path = model.path\n",
    "sim = model.sim"
   ]
  },
  {
   "cell_type": "code",
   "execution_count": null,
   "metadata": {},
   "outputs": [],
   "source": [
    "# Calibration parameters\n",
    "ss.phi_high = 2.0\n",
    "ss.phi_low = 1.0\n",
    "# Some guesses for the steady state\n",
    "ss.r = 0.05\n",
    "ss.w_high = 1.5\n",
    "ss.w_low = 1.0"
   ]
  },
  {
   "cell_type": "code",
   "execution_count": null,
   "metadata": {},
   "outputs": [],
   "source": [
    "model.solve_hh_ss(do_print=True)\n",
    "model.simulate_hh_ss(do_print=True)"
   ]
  },
  {
   "cell_type": "code",
   "execution_count": null,
   "metadata": {},
   "outputs": [],
   "source": [
    "model.find_ss(do_print=True)"
   ]
  },
  {
   "cell_type": "code",
   "execution_count": null,
   "metadata": {},
   "outputs": [],
   "source": [
    "for varname in model.varlist:\n",
    "    print(f'{varname:15s}: {ss.__dict__[varname]:.4f}')"
   ]
  },
  {
   "cell_type": "code",
   "execution_count": null,
   "metadata": {},
   "outputs": [],
   "source": [
    "model.test_hh_path()"
   ]
  },
  {
   "cell_type": "code",
   "execution_count": null,
   "metadata": {},
   "outputs": [],
   "source": [
    "model.test_jacs()"
   ]
  },
  {
   "cell_type": "code",
   "execution_count": null,
   "metadata": {},
   "outputs": [],
   "source": [
    "model.compute_jacs(do_print=True)"
   ]
  },
  {
   "cell_type": "code",
   "execution_count": null,
   "metadata": {},
   "outputs": [],
   "source": [
    "fig = plt.figure(figsize=(12,len(model.inputs_hh_all)*4),dpi=100)\n",
    "\n",
    "i = 0\n",
    "for varname in model.inputs_hh:\n",
    "    \n",
    "    # a. savings\n",
    "    i += 1    \n",
    "    ax = fig.add_subplot(len(model.inputs_hh_all),2,i)\n",
    "    ax.set_title(f'savings, $a_t$, to {varname}')\n",
    "    for s in [0,50,150,250]:\n",
    "        jac_hh_var = model.jac_hh[('A_hh',varname)]\n",
    "        ax.plot(np.arange(par.T),jac_hh_var[:,s],label=f'shock at {s}')\n",
    "    \n",
    "    if i == 1:\n",
    "        ax.legend(frameon=True,bbox_to_anchor=(2.75,0.0))\n",
    "\n",
    "    # b. consumption\n",
    "    i += 1    \n",
    "    ax = fig.add_subplot(len(model.inputs_hh_all),2,i)\n",
    "    ax.set_title(f'consumption, $c_t$, to {varname}')\n",
    "    for s in [0,50,150,250]:\n",
    "        jac_hh_var = model.jac_hh[('C_hh',varname)]\n",
    "        ax.plot(np.arange(par.T),jac_hh_var[:,s],label=f'shock at {s}')"
   ]
  },
  {
   "cell_type": "code",
   "execution_count": null,
   "metadata": {},
   "outputs": [],
   "source": [
    "for i_beta,beta in enumerate(par.beta_grid[:3]):\n",
    "    \n",
    "    fig = plt.figure(figsize=(12,4),dpi=100)\n",
    "\n",
    "    I = par.a_grid < 500\n",
    "\n",
    "    # a. consumption\n",
    "    ax = fig.add_subplot(1,2,1)\n",
    "    ax.set_title(f'consumption ($\\\\beta = {beta:.4f}$)')\n",
    "\n",
    "    for i_z,z in enumerate(par.z_grid):\n",
    "        if i_z%3 == 0 or i_z == par.Nz-1:\n",
    "            ax.plot(par.a_grid[I],ss.c[i_beta,i_z,I],label=f'z = {z:.2f}')\n",
    "\n",
    "    ax.legend(frameon=True)\n",
    "    ax.set_xlabel('savings, $a_{t-1}$')\n",
    "    ax.set_ylabel('consumption, $c_t$')\n",
    "    ax.set_xlim(0,100)\n",
    "    ax.set_ylim(0,5)\n",
    "\n",
    "    # b. saving\n",
    "    ax = fig.add_subplot(1,2,2)\n",
    "    ax.set_title(f'saving ($\\\\beta = {beta:.4f}$)')\n",
    "\n",
    "    for i_z,z in enumerate(par.z_grid):\n",
    "        if i_z%3 == 0 or i_z == par.Nz-1:\n",
    "            ax.plot(par.a_grid[I],ss.a[i_beta,i_z,I]-par.a_grid[I],label=f'z = {z:.2f}')\n",
    "\n",
    "    ax.set_xlabel('savings, $a_{t-1}$')\n",
    "    ax.set_ylabel('savings change, $a_{t}-a_{t-1}$')\n",
    "    ax.set_xlim(0,100)\n",
    "    ax.set_ylim(-3,1)\n",
    "\n",
    "    fig.tight_layout()\n"
   ]
  },
  {
   "cell_type": "code",
   "execution_count": null,
   "metadata": {},
   "outputs": [],
   "source": [
    "model.test_path()"
   ]
  },
  {
   "cell_type": "code",
   "execution_count": null,
   "metadata": {},
   "outputs": [],
   "source": [
    "# a. define shock\n",
    "dphi_high = np.zeros(par.T)\n",
    "dphi_high[10:21] = 0.1*ss.phi_high\n",
    "shocks = {'dphi_high':dphi_high} # note the 'd' for difference (in absolute terms)\n",
    "\n",
    "# b. find transition path\n",
    "model.find_transition_path(do_print=True,shocks=shocks)"
   ]
  },
  {
   "cell_type": "code",
   "execution_count": null,
   "metadata": {},
   "outputs": [],
   "source": [
    "model.show_IRFs(varnames=['w_low','w_high'],ncols=2)"
   ]
  },
  {
   "cell_type": "code",
   "execution_count": null,
   "metadata": {},
   "outputs": [],
   "source": [
    "fig = plt.figure(figsize=(12,4),dpi=100)\n",
    "\n",
    "# a. income\n",
    "ax = fig.add_subplot(1,2,1)\n",
    "ax.set_title('productivity')\n",
    "for i_beta,beta in enumerate(par.beta_grid[:3]):\n",
    "    ax.plot(par.z_grid,np.cumsum(np.sum(ss.D[i_beta],axis=1))*par.Nfix,label=f'$\\\\beta = {beta:.4f}$')\n",
    "\n",
    "ax.set_xlabel('productivity, $z_{t}$')\n",
    "ax.set_ylabel('CDF')\n",
    "ax.legend()\n",
    "\n",
    "# b. assets\n",
    "ax = fig.add_subplot(1,2,2)\n",
    "ax.set_title('savings')\n",
    "for i_beta in range(3):\n",
    "    ax.plot(np.insert(par.a_grid,0,par.a_grid[0]),np.insert(np.cumsum(np.sum(ss.D[i_beta],axis=0)),0,0.0)*par.Nfix,label=f'$\\\\beta = {par.beta_grid[i_beta]:.4f}$')\n",
    "ax.set_xlabel('assets, $a_{t}$')\n",
    "ax.set_ylabel('CDF')\n",
    "ax.set_xscale('symlog')\n",
    "\n",
    "fig.tight_layout()"
   ]
  }
 ],
 "metadata": {
  "kernelspec": {
   "display_name": "base",
   "language": "python",
   "name": "python3"
  },
  "language_info": {
   "codemirror_mode": {
    "name": "ipython",
    "version": 3
   },
   "file_extension": ".py",
   "mimetype": "text/x-python",
   "name": "python",
   "nbconvert_exporter": "python",
   "pygments_lexer": "ipython3",
   "version": "3.11.5"
  },
  "orig_nbformat": 4
 },
 "nbformat": 4,
 "nbformat_minor": 2
}
